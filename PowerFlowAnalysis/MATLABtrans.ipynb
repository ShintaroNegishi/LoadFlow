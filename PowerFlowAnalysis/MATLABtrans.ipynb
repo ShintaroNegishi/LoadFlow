{
 "cells": [
  {
   "cell_type": "code",
   "execution_count": 1,
   "metadata": {},
   "outputs": [],
   "source": [
    "%matplotlib inline\n",
    "\n",
    "import numpy as np\n",
    "import pandas as pd\n",
    "import matplotlib.pyplot as plt\n",
    "import pf_fnc as pf"
   ]
  },
  {
   "cell_type": "code",
   "execution_count": 2,
   "metadata": {},
   "outputs": [],
   "source": [
    "# データ読み込み\n",
    "r, x, b, bc, P, Q, n = pf.common_parameter()\n",
    "\n",
    "# 初期化\n",
    "theta = np.zeros(4)\n",
    "V = np.zeros(4)\n",
    "Y = np.zeros((4,4), dtype=np.complex)\n",
    "cnt = 0\n",
    "\n",
    "p = np.array([P[1], Q[1], P[2], Q[2], P[3]])\n",
    "\n",
    "fnc_v = np.zeros(5)"
   ]
  },
  {
   "cell_type": "code",
   "execution_count": 3,
   "metadata": {},
   "outputs": [
    {
     "data": {
      "text/plain": [
       "array([[ 0.03998401-1.79920032j, -0.03998401+1.99920032j,\n",
       "        -0.        +0.j        , -0.        +0.j        ],\n",
       "       [-0.03998401+1.99920032j,  0.11995202-5.59760096j,\n",
       "        -0.07996801+3.99840064j, -0.        +0.j        ],\n",
       "       [-0.        +0.j        , -0.07996801+3.99840064j,\n",
       "         0.11995202-5.59760096j, -0.03998401+1.99920032j],\n",
       "       [-0.        +0.j        , -0.        +0.j        ,\n",
       "        -0.03998401+1.99920032j,  0.03998401-1.79920032j]])"
      ]
     },
     "metadata": {},
     "output_type": "display_data"
    }
   ],
   "source": [
    "# ノードアドミタンス行列\n",
    "for jj in range(n):\n",
    "    for ii in range(n):\n",
    "        summ=0.0\n",
    "        temp=0.0 # テンポラリ変数初期化\n",
    "        \n",
    "        if (ii==jj):\n",
    "            for jj2 in range(n):\n",
    "                if (ii!=jj2): # 自ノード除去\n",
    "                    temp = 1.0/(r[ii,jj2] + 1.0j*x[ii,jj2]) + 1.0j*b[ii,jj2]/2\n",
    "                    summ = summ + temp\n",
    "            \n",
    "            Y[ii,jj] = summ + bc[ii]*1.0j\n",
    "            \n",
    "        if (ii!=jj):\n",
    "            Y[ii,jj] = -1.0/(r[ii,jj] + 1.0j*x[ii,jj])\n",
    "            \n",
    "            \n",
    "G = Y.real\n",
    "B = Y.imag\n",
    "\n",
    "display(Y)"
   ]
  },
  {
   "cell_type": "code",
   "execution_count": 4,
   "metadata": {},
   "outputs": [],
   "source": [
    "## 潮流計算\n",
    "dfPi_dthetaj = np.zeros((n,n))\n",
    "dfQi_dthetaj = np.zeros((n,n))\n",
    "dfPi_dVj = np.zeros((n,n))\n",
    "dfQi_dVj = np.zeros((n,n))\n",
    "Jacobian = np.zeros((5,5))\n",
    "\n",
    "# フラットスタート\n",
    "V = np.array([1.0, 1.0, 1.0, 1.0]) # 複素電圧の大きさ[pu]\n",
    "theta = np.array([0.0, 0.0, 0.0, 0.0]) # 位相角[rad]\n",
    "\n",
    "# 未知数ベクトル\n",
    "v = [0.0, 1.0, 0.0, 1.0, 0.0]\n",
    "\n",
    "# ミスマッチベクトルの無限大ノルムが閾値0.001以下になれば計算終了\n",
    "while np.linalg.norm(p-fnc_v, np.inf) > 0.001:\n",
    "    # 初期化\n",
    "    fP = np.zeros(n) # fPiの配列\n",
    "    fQ = np.zeros(n) # fQiの配列\n",
    "    \n",
    "    # fPiの計算\n",
    "    for ii in range(n):\n",
    "        summ=0.0 # テンポラリ変数の初期化\n",
    "        \n",
    "        for jj in range(n):\n",
    "            summ = summ + V[jj]*(G[ii,jj]*np.cos(theta[ii].copy()-theta[jj].copy())\\\n",
    "                                 + B[ii,jj] * np.sin(theta[ii].copy()-theta[jj].copy()))\n",
    "        \n",
    "        fP[ii] = V[ii].copy() * summ\n",
    "    \n",
    "    # fQiの計算\n",
    "    for ii in range(n):\n",
    "        summ=0.0\n",
    "        \n",
    "        for jj in range(n):\n",
    "            summ = summ + V[jj].copy()*(G[ii,jj]*np.sin(theta[ii].copy()-theta[jj].copy())\\\n",
    "                                 - B[ii,jj]*np.cos(theta[ii].copy()-theta[jj].copy()))\n",
    "        \n",
    "        fQ[ii] = V[ii].copy() * summ\n",
    "        \n",
    "    # ヤコビアン行列の各成分の計算\n",
    "    for jj in range(n):\n",
    "        for ii in range(n):\n",
    "            if (ii==jj):\n",
    "                dfPi_dthetaj[ii,jj] = -V[ii].copy()**2 * B[ii,jj] - fQ[ii]\n",
    "                dfQi_dthetaj[ii,jj] = -V[ii].copy()**2 * G[ii,jj] + fP[ii]\n",
    "                dfPi_dVj[ii,jj] = V[ii].copy() * G[ii,jj] + fP[ii]/V[ii]\n",
    "                dfQi_dVj[ii,jj] = -V[ii].copy() * B[ii,jj] + fQ[ii]/V[ii]\n",
    "            if (ii!=jj):\n",
    "                dfPi_dthetaj[ii,jj] = V[ii].copy()*V[jj].copy()*(G[ii,jj]*np.sin(theta[ii].copy()-theta[jj].copy())\\\n",
    "                                                   -B[ii,jj]*np.cos(theta[ii].copy()-theta[jj].copy()))\n",
    "                dfQi_dthetaj[ii,jj] = -V[ii].copy()*V[jj].copy()*(G[ii,jj]*np.cos(theta[ii].copy()-theta[jj].copy())\\\n",
    "                                                    +B[ii,jj]*np.sin(theta[ii].copy()-theta[jj].copy()))\n",
    "                dfPi_dVj[ii,jj] = V[ii].copy() * (G[ii,jj]*np.cos(theta[ii].copy()-theta[jj].copy())\\\n",
    "                                           -B[ii,jj]*np.sin(theta[ii].copy()-theta[jj].copy()))\n",
    "                dfQi_dVj[ii,jj] = V[ii].copy() * (-G[ii,jj]*np.sin(theta[ii].copy()-theta[jj].copy())\\\n",
    "                                           -B[ii,jj]*np.cos(theta[ii].copy()-theta[jj].copy()))\n",
    "    \n",
    "    Jacobian = np.array([[dfPi_dthetaj[1,1], dfPi_dVj[1,1], dfPi_dthetaj[1,2], dfPi_dVj[1,2], 0],\n",
    "                         [dfQi_dthetaj[1,1], dfQi_dVj[1,1], dfQi_dthetaj[1,2], dfQi_dVj[1,2], 0],\n",
    "                         [dfPi_dthetaj[2,1], dfPi_dVj[2,1], dfPi_dthetaj[2,2], dfPi_dVj[2,2], dfPi_dthetaj[2,3]],\n",
    "                         [dfQi_dthetaj[2,1], dfQi_dVj[2,1], dfQi_dthetaj[2,2], dfQi_dVj[2,2], dfQi_dthetaj[2,3]],\n",
    "                         [0, 0, dfPi_dthetaj[3,2], dfPi_dVj[3,2], dfPi_dthetaj[3,3]]])\n",
    "    \n",
    "    fnc_v = np.array([fP[1], fQ[1], fP[2], fQ[2], fP[3]])\n",
    "    temp = v + np.dot(np.linalg.inv(Jacobian),(p-fnc_v))\n",
    "    v = temp.copy()\n",
    "    \n",
    "    V = [V[0], v[1], v[3], V[3]]\n",
    "    theta = [theta[0], v[0], v[2], v[4]]\n",
    "    cnt = cnt+1"
   ]
  },
  {
   "cell_type": "code",
   "execution_count": 5,
   "metadata": {
    "scrolled": false
   },
   "outputs": [
    {
     "data": {
      "text/plain": [
       "array([[ 0.03998401-1.79920032j, -0.03998401+1.99920032j,\n",
       "        -0.        +0.j        , -0.        +0.j        ],\n",
       "       [-0.03998401+1.99920032j,  0.11995202-5.59760096j,\n",
       "        -0.07996801+3.99840064j, -0.        +0.j        ],\n",
       "       [-0.        +0.j        , -0.07996801+3.99840064j,\n",
       "         0.11995202-5.59760096j, -0.03998401+1.99920032j],\n",
       "       [-0.        +0.j        , -0.        +0.j        ,\n",
       "        -0.03998401+1.99920032j,  0.03998401-1.79920032j]])"
      ]
     },
     "metadata": {},
     "output_type": "display_data"
    },
    {
     "data": {
      "text/plain": [
       "6"
      ]
     },
     "metadata": {},
     "output_type": "display_data"
    },
    {
     "data": {
      "text/plain": [
       "array([[ 5.84783165, -0.48326799, -3.96398358, -0.08342309,  0.        ],\n",
       "       [-0.71888593,  5.27132057,  0.07548272, -3.98050822,  0.        ],\n",
       "       [-3.96383176, -0.07582053,  5.85079497, -0.48307501, -1.88696321],\n",
       "       [ 0.08307359, -3.98172365, -0.71894924,  5.27288912,  0.63587565],\n",
       "       [ 0.        ,  0.        , -1.9108791 , -0.63855088,  1.9108791 ]])"
      ]
     },
     "metadata": {},
     "output_type": "display_data"
    },
    {
     "data": {
      "text/plain": [
       "array([-0.30906882,  0.99554673, -0.31000323,  0.99580616, -0.00491896])"
      ]
     },
     "metadata": {},
     "output_type": "display_data"
    },
    {
     "data": {
      "text/plain": [
       "array([ 3.88866441e-07, -1.60358193e-06,  1.96402684e-07, -1.61669288e-06,\n",
       "        9.71912725e-05])"
      ]
     },
     "metadata": {},
     "output_type": "display_data"
    },
    {
     "name": "stdout",
     "output_type": "stream",
     "text": [
      "計算結果\n",
      "ノード電圧\n"
     ]
    },
    {
     "data": {
      "text/plain": [
       "[1.0, 0.9955467346192863, 0.9958061606450417, 1.0]"
      ]
     },
     "metadata": {},
     "output_type": "display_data"
    },
    {
     "name": "stdout",
     "output_type": "stream",
     "text": [
      "位相差\n"
     ]
    },
    {
     "data": {
      "text/plain": [
       "[0.0, -0.3090688235614156, -0.31000322980273026, -0.004918956090594681]"
      ]
     },
     "metadata": {},
     "output_type": "display_data"
    }
   ],
   "source": [
    "# 結果表示\n",
    "display(Y)\n",
    "display(cnt)\n",
    "display(Jacobian)\n",
    "display(v)\n",
    "display(p-fnc_v)\n",
    "print('計算結果')\n",
    "print('ノード電圧')\n",
    "display(V)\n",
    "print('位相差')\n",
    "display(theta)"
   ]
  },
  {
   "cell_type": "code",
   "execution_count": 6,
   "metadata": {},
   "outputs": [
    {
     "name": "stdout",
     "output_type": "stream",
     "text": [
      "I_dash:\n",
      "[[ 0.        +0.j          0.60745633-0.29110095j  0.        +0.j\n",
      "   0.        +0.j        ]\n",
      " [-0.66801976-0.09857405j  0.        +0.j         -0.02641965-0.09490549j\n",
      "   0.        -0.j        ]\n",
      " [ 0.        -0.j         -0.0342403 -0.09476587j  0.        +0.j\n",
      "  -0.66030941-0.0983603j ]\n",
      " [ 0.        -0.j          0.        +0.j          0.59856915-0.29130502j\n",
      "   0.        +0.j        ]]\n",
      "Power: P[i,j]+jQ[i,j]\n",
      "[[ 0.        +0.j          0.60745633+0.29110095j  0.        +0.j\n",
      "   0.        +0.j        ]\n",
      " [-0.60368331+0.295773j    0.        -0.j          0.00368327+0.09800631j\n",
      "   0.        +0.j        ]\n",
      " [ 0.        +0.j         -0.0036832 +0.10027174j  0.        -0.j\n",
      "  -0.59631682+0.2938692j ]\n",
      " [ 0.        +0.j          0.        -0.j          0.59999482+0.28835717j\n",
      "   0.        -0.j        ]]\n"
     ]
    }
   ],
   "source": [
    "# ブランチ潮流の計算\n",
    "I_dash, Power = pf.node_calc(V, theta, r, x, b, n)\n",
    "\n",
    "print('I_dash:')\n",
    "print(I_dash)\n",
    "print('Power: P[i,j]+jQ[i,j]')\n",
    "print(Power)"
   ]
  }
 ],
 "metadata": {
  "kernelspec": {
   "display_name": "Python 3",
   "language": "python",
   "name": "python3"
  },
  "language_info": {
   "codemirror_mode": {
    "name": "ipython",
    "version": 3
   },
   "file_extension": ".py",
   "mimetype": "text/x-python",
   "name": "python",
   "nbconvert_exporter": "python",
   "pygments_lexer": "ipython3",
   "version": "3.7.2"
  }
 },
 "nbformat": 4,
 "nbformat_minor": 2
}
